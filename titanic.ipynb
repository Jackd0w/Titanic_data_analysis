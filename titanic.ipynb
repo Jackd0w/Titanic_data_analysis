{
 "cells": [
  {
   "cell_type": "code",
   "execution_count": 29,
   "source": [
    "from sklearn import tree\r\n",
    "import pandas as pd \r\n",
    "import matplotlib.pyplot as plt\r\n",
    "import seaborn as sns\r\n",
    "#matplotlib inline"
   ],
   "outputs": [],
   "metadata": {}
  },
  {
   "cell_type": "code",
   "execution_count": 30,
   "source": [
    "from IPython.display import SVG \r\n",
    "from graphviz import Source\r\n",
    "from IPython.display import display"
   ],
   "outputs": [],
   "metadata": {}
  },
  {
   "cell_type": "code",
   "execution_count": 31,
   "source": [
    "titanic_data = pd.read_csv('train.csv')"
   ],
   "outputs": [],
   "metadata": {}
  },
  {
   "cell_type": "code",
   "execution_count": 32,
   "source": [
    "titanic_data.head()"
   ],
   "outputs": [
    {
     "output_type": "execute_result",
     "data": {
      "text/plain": [
       "   PassengerId  Survived  Pclass  \\\n",
       "0            1         0       3   \n",
       "1            2         1       1   \n",
       "2            3         1       3   \n",
       "3            4         1       1   \n",
       "4            5         0       3   \n",
       "\n",
       "                                                Name     Sex   Age  SibSp  \\\n",
       "0                            Braund, Mr. Owen Harris    male  22.0      1   \n",
       "1  Cumings, Mrs. John Bradley (Florence Briggs Th...  female  38.0      1   \n",
       "2                             Heikkinen, Miss. Laina  female  26.0      0   \n",
       "3       Futrelle, Mrs. Jacques Heath (Lily May Peel)  female  35.0      1   \n",
       "4                           Allen, Mr. William Henry    male  35.0      0   \n",
       "\n",
       "   Parch            Ticket     Fare Cabin Embarked  \n",
       "0      0         A/5 21171   7.2500   NaN        S  \n",
       "1      0          PC 17599  71.2833   C85        C  \n",
       "2      0  STON/O2. 3101282   7.9250   NaN        S  \n",
       "3      0            113803  53.1000  C123        S  \n",
       "4      0            373450   8.0500   NaN        S  "
      ],
      "text/html": [
       "<div>\n",
       "<style scoped>\n",
       "    .dataframe tbody tr th:only-of-type {\n",
       "        vertical-align: middle;\n",
       "    }\n",
       "\n",
       "    .dataframe tbody tr th {\n",
       "        vertical-align: top;\n",
       "    }\n",
       "\n",
       "    .dataframe thead th {\n",
       "        text-align: right;\n",
       "    }\n",
       "</style>\n",
       "<table border=\"1\" class=\"dataframe\">\n",
       "  <thead>\n",
       "    <tr style=\"text-align: right;\">\n",
       "      <th></th>\n",
       "      <th>PassengerId</th>\n",
       "      <th>Survived</th>\n",
       "      <th>Pclass</th>\n",
       "      <th>Name</th>\n",
       "      <th>Sex</th>\n",
       "      <th>Age</th>\n",
       "      <th>SibSp</th>\n",
       "      <th>Parch</th>\n",
       "      <th>Ticket</th>\n",
       "      <th>Fare</th>\n",
       "      <th>Cabin</th>\n",
       "      <th>Embarked</th>\n",
       "    </tr>\n",
       "  </thead>\n",
       "  <tbody>\n",
       "    <tr>\n",
       "      <th>0</th>\n",
       "      <td>1</td>\n",
       "      <td>0</td>\n",
       "      <td>3</td>\n",
       "      <td>Braund, Mr. Owen Harris</td>\n",
       "      <td>male</td>\n",
       "      <td>22.0</td>\n",
       "      <td>1</td>\n",
       "      <td>0</td>\n",
       "      <td>A/5 21171</td>\n",
       "      <td>7.2500</td>\n",
       "      <td>NaN</td>\n",
       "      <td>S</td>\n",
       "    </tr>\n",
       "    <tr>\n",
       "      <th>1</th>\n",
       "      <td>2</td>\n",
       "      <td>1</td>\n",
       "      <td>1</td>\n",
       "      <td>Cumings, Mrs. John Bradley (Florence Briggs Th...</td>\n",
       "      <td>female</td>\n",
       "      <td>38.0</td>\n",
       "      <td>1</td>\n",
       "      <td>0</td>\n",
       "      <td>PC 17599</td>\n",
       "      <td>71.2833</td>\n",
       "      <td>C85</td>\n",
       "      <td>C</td>\n",
       "    </tr>\n",
       "    <tr>\n",
       "      <th>2</th>\n",
       "      <td>3</td>\n",
       "      <td>1</td>\n",
       "      <td>3</td>\n",
       "      <td>Heikkinen, Miss. Laina</td>\n",
       "      <td>female</td>\n",
       "      <td>26.0</td>\n",
       "      <td>0</td>\n",
       "      <td>0</td>\n",
       "      <td>STON/O2. 3101282</td>\n",
       "      <td>7.9250</td>\n",
       "      <td>NaN</td>\n",
       "      <td>S</td>\n",
       "    </tr>\n",
       "    <tr>\n",
       "      <th>3</th>\n",
       "      <td>4</td>\n",
       "      <td>1</td>\n",
       "      <td>1</td>\n",
       "      <td>Futrelle, Mrs. Jacques Heath (Lily May Peel)</td>\n",
       "      <td>female</td>\n",
       "      <td>35.0</td>\n",
       "      <td>1</td>\n",
       "      <td>0</td>\n",
       "      <td>113803</td>\n",
       "      <td>53.1000</td>\n",
       "      <td>C123</td>\n",
       "      <td>S</td>\n",
       "    </tr>\n",
       "    <tr>\n",
       "      <th>4</th>\n",
       "      <td>5</td>\n",
       "      <td>0</td>\n",
       "      <td>3</td>\n",
       "      <td>Allen, Mr. William Henry</td>\n",
       "      <td>male</td>\n",
       "      <td>35.0</td>\n",
       "      <td>0</td>\n",
       "      <td>0</td>\n",
       "      <td>373450</td>\n",
       "      <td>8.0500</td>\n",
       "      <td>NaN</td>\n",
       "      <td>S</td>\n",
       "    </tr>\n",
       "  </tbody>\n",
       "</table>\n",
       "</div>"
      ]
     },
     "metadata": {},
     "execution_count": 32
    }
   ],
   "metadata": {}
  },
  {
   "cell_type": "code",
   "execution_count": 33,
   "source": [
    "titanic_data.isnull().sum()"
   ],
   "outputs": [
    {
     "output_type": "execute_result",
     "data": {
      "text/plain": [
       "PassengerId      0\n",
       "Survived         0\n",
       "Pclass           0\n",
       "Name             0\n",
       "Sex              0\n",
       "Age            177\n",
       "SibSp            0\n",
       "Parch            0\n",
       "Ticket           0\n",
       "Fare             0\n",
       "Cabin          687\n",
       "Embarked         2\n",
       "dtype: int64"
      ]
     },
     "metadata": {},
     "execution_count": 33
    }
   ],
   "metadata": {}
  },
  {
   "cell_type": "code",
   "execution_count": 34,
   "source": [
    "X = titanic_data.drop(['PassengerId', 'Survived', 'Name', 'Ticket', 'Cabin'], axis=1)\r\n",
    "y = titanic_data.Survived "
   ],
   "outputs": [],
   "metadata": {}
  },
  {
   "cell_type": "code",
   "execution_count": 35,
   "source": [
    "X = pd.get_dummies(X)"
   ],
   "outputs": [],
   "metadata": {}
  },
  {
   "cell_type": "code",
   "execution_count": 36,
   "source": [
    "X = X.fillna({'Age': X.Age.median()})"
   ],
   "outputs": [],
   "metadata": {}
  },
  {
   "cell_type": "code",
   "execution_count": 37,
   "source": [
    "clf = tree.DecisionTreeClassifier(criterion='entropy', max_depth=3)"
   ],
   "outputs": [],
   "metadata": {}
  },
  {
   "cell_type": "code",
   "execution_count": 38,
   "source": [
    "clf.fit(X, y)"
   ],
   "outputs": [
    {
     "output_type": "execute_result",
     "data": {
      "text/plain": [
       "DecisionTreeClassifier(criterion='entropy', max_depth=3)"
      ]
     },
     "metadata": {},
     "execution_count": 38
    }
   ],
   "metadata": {}
  },
  {
   "cell_type": "code",
   "execution_count": 39,
   "source": [
    "graph = Source(tree.export_graphviz(clf, out_file=None, feature_names=list(X),\r\n",
    "class_names=['Died', 'Survived'], filled=True))\r\n",
    "display(SVG(graph.pipe(format='svg')))"
   ],
   "outputs": [
    {
     "output_type": "display_data",
     "data": {
      "text/plain": [
       "<IPython.core.display.SVG object>"
      ],
      "image/svg+xml": "<svg xmlns=\"http://www.w3.org/2000/svg\" xmlns:xlink=\"http://www.w3.org/1999/xlink\" width=\"1004pt\" height=\"433pt\" viewBox=\"0.00 0.00 1004.00 433.00\">\n<g id=\"graph0\" class=\"graph\" transform=\"scale(1 1) rotate(0) translate(4 429)\">\n<title>Tree</title>\n<polygon fill=\"white\" stroke=\"none\" points=\"-4,4 -4,-429 1000,-429 1000,4 -4,4\"/>\n<!-- 0 -->\n<g id=\"node1\" class=\"node\"><title>0</title>\n<polygon fill=\"#f5cfb4\" stroke=\"black\" points=\"559,-425 437,-425 437,-342 559,-342 559,-425\"/>\n<text text-anchor=\"middle\" x=\"498\" y=\"-409.8\" font-family=\"Times New Roman,serif\" font-size=\"14.00\">Sex_female &lt;= 0.5</text>\n<text text-anchor=\"middle\" x=\"498\" y=\"-394.8\" font-family=\"Times New Roman,serif\" font-size=\"14.00\">entropy = 0.961</text>\n<text text-anchor=\"middle\" x=\"498\" y=\"-379.8\" font-family=\"Times New Roman,serif\" font-size=\"14.00\">samples = 891</text>\n<text text-anchor=\"middle\" x=\"498\" y=\"-364.8\" font-family=\"Times New Roman,serif\" font-size=\"14.00\">value = [549, 342]</text>\n<text text-anchor=\"middle\" x=\"498\" y=\"-349.8\" font-family=\"Times New Roman,serif\" font-size=\"14.00\">class = Died</text>\n</g>\n<!-- 1 -->\n<g id=\"node2\" class=\"node\"><title>1</title>\n<polygon fill=\"#eb9e67\" stroke=\"black\" points=\"462,-306 344,-306 344,-223 462,-223 462,-306\"/>\n<text text-anchor=\"middle\" x=\"403\" y=\"-290.8\" font-family=\"Times New Roman,serif\" font-size=\"14.00\">Fare &lt;= 26.269</text>\n<text text-anchor=\"middle\" x=\"403\" y=\"-275.8\" font-family=\"Times New Roman,serif\" font-size=\"14.00\">entropy = 0.699</text>\n<text text-anchor=\"middle\" x=\"403\" y=\"-260.8\" font-family=\"Times New Roman,serif\" font-size=\"14.00\">samples = 577</text>\n<text text-anchor=\"middle\" x=\"403\" y=\"-245.8\" font-family=\"Times New Roman,serif\" font-size=\"14.00\">value = [468, 109]</text>\n<text text-anchor=\"middle\" x=\"403\" y=\"-230.8\" font-family=\"Times New Roman,serif\" font-size=\"14.00\">class = Died</text>\n</g>\n<!-- 0&#45;&gt;1 -->\n<g id=\"edge1\" class=\"edge\"><title>0-&gt;1</title>\n<path fill=\"none\" stroke=\"black\" d=\"M465.04,-341.907C457.745,-332.923 449.944,-323.315 442.421,-314.05\"/>\n<polygon fill=\"black\" stroke=\"black\" points=\"444.922,-311.578 435.902,-306.021 439.488,-315.99 444.922,-311.578\"/>\n<text text-anchor=\"middle\" x=\"433.321\" y=\"-327.187\" font-family=\"Times New Roman,serif\" font-size=\"14.00\">True</text>\n</g>\n<!-- 8 -->\n<g id=\"node9\" class=\"node\"><title>8</title>\n<polygon fill=\"#7ebfee\" stroke=\"black\" points=\"648.5,-306 537.5,-306 537.5,-223 648.5,-223 648.5,-306\"/>\n<text text-anchor=\"middle\" x=\"593\" y=\"-290.8\" font-family=\"Times New Roman,serif\" font-size=\"14.00\">Pclass &lt;= 2.5</text>\n<text text-anchor=\"middle\" x=\"593\" y=\"-275.8\" font-family=\"Times New Roman,serif\" font-size=\"14.00\">entropy = 0.824</text>\n<text text-anchor=\"middle\" x=\"593\" y=\"-260.8\" font-family=\"Times New Roman,serif\" font-size=\"14.00\">samples = 314</text>\n<text text-anchor=\"middle\" x=\"593\" y=\"-245.8\" font-family=\"Times New Roman,serif\" font-size=\"14.00\">value = [81, 233]</text>\n<text text-anchor=\"middle\" x=\"593\" y=\"-230.8\" font-family=\"Times New Roman,serif\" font-size=\"14.00\">class = Survived</text>\n</g>\n<!-- 0&#45;&gt;8 -->\n<g id=\"edge8\" class=\"edge\"><title>0-&gt;8</title>\n<path fill=\"none\" stroke=\"black\" d=\"M530.96,-341.907C538.255,-332.923 546.056,-323.315 553.579,-314.05\"/>\n<polygon fill=\"black\" stroke=\"black\" points=\"556.512,-315.99 560.098,-306.021 551.078,-311.578 556.512,-315.99\"/>\n<text text-anchor=\"middle\" x=\"562.679\" y=\"-327.187\" font-family=\"Times New Roman,serif\" font-size=\"14.00\">False</text>\n</g>\n<!-- 2 -->\n<g id=\"node3\" class=\"node\"><title>2</title>\n<polygon fill=\"#e99457\" stroke=\"black\" points=\"239.5,-187 128.5,-187 128.5,-104 239.5,-104 239.5,-187\"/>\n<text text-anchor=\"middle\" x=\"184\" y=\"-171.8\" font-family=\"Times New Roman,serif\" font-size=\"14.00\">Age &lt;= 13.5</text>\n<text text-anchor=\"middle\" x=\"184\" y=\"-156.8\" font-family=\"Times New Roman,serif\" font-size=\"14.00\">entropy = 0.558</text>\n<text text-anchor=\"middle\" x=\"184\" y=\"-141.8\" font-family=\"Times New Roman,serif\" font-size=\"14.00\">samples = 415</text>\n<text text-anchor=\"middle\" x=\"184\" y=\"-126.8\" font-family=\"Times New Roman,serif\" font-size=\"14.00\">value = [361, 54]</text>\n<text text-anchor=\"middle\" x=\"184\" y=\"-111.8\" font-family=\"Times New Roman,serif\" font-size=\"14.00\">class = Died</text>\n</g>\n<!-- 1&#45;&gt;2 -->\n<g id=\"edge2\" class=\"edge\"><title>1-&gt;2</title>\n<path fill=\"none\" stroke=\"black\" d=\"M343.735,-231.838C314.347,-216.137 278.794,-197.144 248.698,-181.065\"/>\n<polygon fill=\"black\" stroke=\"black\" points=\"250.016,-177.8 239.546,-176.175 246.717,-183.975 250.016,-177.8\"/>\n</g>\n<!-- 5 -->\n<g id=\"node6\" class=\"node\"><title>5</title>\n<polygon fill=\"#f2c29f\" stroke=\"black\" points=\"458.5,-187 347.5,-187 347.5,-104 458.5,-104 458.5,-187\"/>\n<text text-anchor=\"middle\" x=\"403\" y=\"-171.8\" font-family=\"Times New Roman,serif\" font-size=\"14.00\">SibSp &lt;= 2.5</text>\n<text text-anchor=\"middle\" x=\"403\" y=\"-156.8\" font-family=\"Times New Roman,serif\" font-size=\"14.00\">entropy = 0.924</text>\n<text text-anchor=\"middle\" x=\"403\" y=\"-141.8\" font-family=\"Times New Roman,serif\" font-size=\"14.00\">samples = 162</text>\n<text text-anchor=\"middle\" x=\"403\" y=\"-126.8\" font-family=\"Times New Roman,serif\" font-size=\"14.00\">value = [107, 55]</text>\n<text text-anchor=\"middle\" x=\"403\" y=\"-111.8\" font-family=\"Times New Roman,serif\" font-size=\"14.00\">class = Died</text>\n</g>\n<!-- 1&#45;&gt;5 -->\n<g id=\"edge5\" class=\"edge\"><title>1-&gt;5</title>\n<path fill=\"none\" stroke=\"black\" d=\"M403,-222.907C403,-214.649 403,-205.864 403,-197.302\"/>\n<polygon fill=\"black\" stroke=\"black\" points=\"406.5,-197.021 403,-187.021 399.5,-197.021 406.5,-197.021\"/>\n</g>\n<!-- 3 -->\n<g id=\"node4\" class=\"node\"><title>3</title>\n<polygon fill=\"#57ace9\" stroke=\"black\" points=\"110,-68 0,-68 0,-0 110,-0 110,-68\"/>\n<text text-anchor=\"middle\" x=\"55\" y=\"-52.8\" font-family=\"Times New Roman,serif\" font-size=\"14.00\">entropy = 0.567</text>\n<text text-anchor=\"middle\" x=\"55\" y=\"-37.8\" font-family=\"Times New Roman,serif\" font-size=\"14.00\">samples = 15</text>\n<text text-anchor=\"middle\" x=\"55\" y=\"-22.8\" font-family=\"Times New Roman,serif\" font-size=\"14.00\">value = [2, 13]</text>\n<text text-anchor=\"middle\" x=\"55\" y=\"-7.8\" font-family=\"Times New Roman,serif\" font-size=\"14.00\">class = Survived</text>\n</g>\n<!-- 2&#45;&gt;3 -->\n<g id=\"edge3\" class=\"edge\"><title>2-&gt;3</title>\n<path fill=\"none\" stroke=\"black\" d=\"M135.965,-103.726C124.898,-94.3318 113.137,-84.349 102.11,-74.9883\"/>\n<polygon fill=\"black\" stroke=\"black\" points=\"104.118,-72.1026 94.2297,-68.2996 99.5885,-77.4393 104.118,-72.1026\"/>\n</g>\n<!-- 4 -->\n<g id=\"node5\" class=\"node\"><title>4</title>\n<polygon fill=\"#e88f50\" stroke=\"black\" points=\"239.5,-68 128.5,-68 128.5,-0 239.5,-0 239.5,-68\"/>\n<text text-anchor=\"middle\" x=\"184\" y=\"-52.8\" font-family=\"Times New Roman,serif\" font-size=\"14.00\">entropy = 0.477</text>\n<text text-anchor=\"middle\" x=\"184\" y=\"-37.8\" font-family=\"Times New Roman,serif\" font-size=\"14.00\">samples = 400</text>\n<text text-anchor=\"middle\" x=\"184\" y=\"-22.8\" font-family=\"Times New Roman,serif\" font-size=\"14.00\">value = [359, 41]</text>\n<text text-anchor=\"middle\" x=\"184\" y=\"-7.8\" font-family=\"Times New Roman,serif\" font-size=\"14.00\">class = Died</text>\n</g>\n<!-- 2&#45;&gt;4 -->\n<g id=\"edge4\" class=\"edge\"><title>2-&gt;4</title>\n<path fill=\"none\" stroke=\"black\" d=\"M184,-103.726C184,-95.5175 184,-86.8595 184,-78.56\"/>\n<polygon fill=\"black\" stroke=\"black\" points=\"187.5,-78.2996 184,-68.2996 180.5,-78.2996 187.5,-78.2996\"/>\n</g>\n<!-- 6 -->\n<g id=\"node7\" class=\"node\"><title>6</title>\n<polygon fill=\"#f6d1b7\" stroke=\"black\" points=\"364,-68 258,-68 258,-0 364,-0 364,-68\"/>\n<text text-anchor=\"middle\" x=\"311\" y=\"-52.8\" font-family=\"Times New Roman,serif\" font-size=\"14.00\">entropy = 0.964</text>\n<text text-anchor=\"middle\" x=\"311\" y=\"-37.8\" font-family=\"Times New Roman,serif\" font-size=\"14.00\">samples = 139</text>\n<text text-anchor=\"middle\" x=\"311\" y=\"-22.8\" font-family=\"Times New Roman,serif\" font-size=\"14.00\">value = [85, 54]</text>\n<text text-anchor=\"middle\" x=\"311\" y=\"-7.8\" font-family=\"Times New Roman,serif\" font-size=\"14.00\">class = Died</text>\n</g>\n<!-- 5&#45;&gt;6 -->\n<g id=\"edge6\" class=\"edge\"><title>5-&gt;6</title>\n<path fill=\"none\" stroke=\"black\" d=\"M368.743,-103.726C361.156,-94.6966 353.113,-85.1235 345.516,-76.0816\"/>\n<polygon fill=\"black\" stroke=\"black\" points=\"348.09,-73.7045 338.978,-68.2996 342.731,-78.2075 348.09,-73.7045\"/>\n</g>\n<!-- 7 -->\n<g id=\"node8\" class=\"node\"><title>7</title>\n<polygon fill=\"#e68742\" stroke=\"black\" points=\"488,-68 382,-68 382,-0 488,-0 488,-68\"/>\n<text text-anchor=\"middle\" x=\"435\" y=\"-52.8\" font-family=\"Times New Roman,serif\" font-size=\"14.00\">entropy = 0.258</text>\n<text text-anchor=\"middle\" x=\"435\" y=\"-37.8\" font-family=\"Times New Roman,serif\" font-size=\"14.00\">samples = 23</text>\n<text text-anchor=\"middle\" x=\"435\" y=\"-22.8\" font-family=\"Times New Roman,serif\" font-size=\"14.00\">value = [22, 1]</text>\n<text text-anchor=\"middle\" x=\"435\" y=\"-7.8\" font-family=\"Times New Roman,serif\" font-size=\"14.00\">class = Died</text>\n</g>\n<!-- 5&#45;&gt;7 -->\n<g id=\"edge7\" class=\"edge\"><title>5-&gt;7</title>\n<path fill=\"none\" stroke=\"black\" d=\"M414.916,-103.726C417.368,-95.3351 419.957,-86.4745 422.432,-78.0072\"/>\n<polygon fill=\"black\" stroke=\"black\" points=\"425.823,-78.8799 425.269,-68.2996 419.104,-76.9163 425.823,-78.8799\"/>\n</g>\n<!-- 9 -->\n<g id=\"node10\" class=\"node\"><title>9</title>\n<polygon fill=\"#44a2e6\" stroke=\"black\" points=\"648,-187 538,-187 538,-104 648,-104 648,-187\"/>\n<text text-anchor=\"middle\" x=\"593\" y=\"-171.8\" font-family=\"Times New Roman,serif\" font-size=\"14.00\">Fare &lt;= 28.856</text>\n<text text-anchor=\"middle\" x=\"593\" y=\"-156.8\" font-family=\"Times New Roman,serif\" font-size=\"14.00\">entropy = 0.299</text>\n<text text-anchor=\"middle\" x=\"593\" y=\"-141.8\" font-family=\"Times New Roman,serif\" font-size=\"14.00\">samples = 170</text>\n<text text-anchor=\"middle\" x=\"593\" y=\"-126.8\" font-family=\"Times New Roman,serif\" font-size=\"14.00\">value = [9, 161]</text>\n<text text-anchor=\"middle\" x=\"593\" y=\"-111.8\" font-family=\"Times New Roman,serif\" font-size=\"14.00\">class = Survived</text>\n</g>\n<!-- 8&#45;&gt;9 -->\n<g id=\"edge9\" class=\"edge\"><title>8-&gt;9</title>\n<path fill=\"none\" stroke=\"black\" d=\"M593,-222.907C593,-214.649 593,-205.864 593,-197.302\"/>\n<polygon fill=\"black\" stroke=\"black\" points=\"596.5,-197.021 593,-187.021 589.5,-197.021 596.5,-197.021\"/>\n</g>\n<!-- 12 -->\n<g id=\"node13\" class=\"node\"><title>12</title>\n<polygon fill=\"#ffffff\" stroke=\"black\" points=\"869,-187 765,-187 765,-104 869,-104 869,-187\"/>\n<text text-anchor=\"middle\" x=\"817\" y=\"-171.8\" font-family=\"Times New Roman,serif\" font-size=\"14.00\">Fare &lt;= 23.35</text>\n<text text-anchor=\"middle\" x=\"817\" y=\"-156.8\" font-family=\"Times New Roman,serif\" font-size=\"14.00\">entropy = 1.0</text>\n<text text-anchor=\"middle\" x=\"817\" y=\"-141.8\" font-family=\"Times New Roman,serif\" font-size=\"14.00\">samples = 144</text>\n<text text-anchor=\"middle\" x=\"817\" y=\"-126.8\" font-family=\"Times New Roman,serif\" font-size=\"14.00\">value = [72, 72]</text>\n<text text-anchor=\"middle\" x=\"817\" y=\"-111.8\" font-family=\"Times New Roman,serif\" font-size=\"14.00\">class = Died</text>\n</g>\n<!-- 8&#45;&gt;12 -->\n<g id=\"edge12\" class=\"edge\"><title>8-&gt;12</title>\n<path fill=\"none\" stroke=\"black\" d=\"M648.659,-234.428C681.11,-217.478 722.095,-196.071 755.499,-178.623\"/>\n<polygon fill=\"black\" stroke=\"black\" points=\"757.463,-181.546 764.706,-173.814 754.222,-175.342 757.463,-181.546\"/>\n</g>\n<!-- 10 -->\n<g id=\"node11\" class=\"node\"><title>10</title>\n<polygon fill=\"#4fa8e8\" stroke=\"black\" points=\"616,-68 506,-68 506,-0 616,-0 616,-68\"/>\n<text text-anchor=\"middle\" x=\"561\" y=\"-52.8\" font-family=\"Times New Roman,serif\" font-size=\"14.00\">entropy = 0.469</text>\n<text text-anchor=\"middle\" x=\"561\" y=\"-37.8\" font-family=\"Times New Roman,serif\" font-size=\"14.00\">samples = 70</text>\n<text text-anchor=\"middle\" x=\"561\" y=\"-22.8\" font-family=\"Times New Roman,serif\" font-size=\"14.00\">value = [7, 63]</text>\n<text text-anchor=\"middle\" x=\"561\" y=\"-7.8\" font-family=\"Times New Roman,serif\" font-size=\"14.00\">class = Survived</text>\n</g>\n<!-- 9&#45;&gt;10 -->\n<g id=\"edge10\" class=\"edge\"><title>9-&gt;10</title>\n<path fill=\"none\" stroke=\"black\" d=\"M581.084,-103.726C578.632,-95.3351 576.043,-86.4745 573.568,-78.0072\"/>\n<polygon fill=\"black\" stroke=\"black\" points=\"576.896,-76.9163 570.731,-68.2996 570.177,-78.8799 576.896,-76.9163\"/>\n</g>\n<!-- 11 -->\n<g id=\"node12\" class=\"node\"><title>11</title>\n<polygon fill=\"#3d9fe6\" stroke=\"black\" points=\"744,-68 634,-68 634,-0 744,-0 744,-68\"/>\n<text text-anchor=\"middle\" x=\"689\" y=\"-52.8\" font-family=\"Times New Roman,serif\" font-size=\"14.00\">entropy = 0.141</text>\n<text text-anchor=\"middle\" x=\"689\" y=\"-37.8\" font-family=\"Times New Roman,serif\" font-size=\"14.00\">samples = 100</text>\n<text text-anchor=\"middle\" x=\"689\" y=\"-22.8\" font-family=\"Times New Roman,serif\" font-size=\"14.00\">value = [2, 98]</text>\n<text text-anchor=\"middle\" x=\"689\" y=\"-7.8\" font-family=\"Times New Roman,serif\" font-size=\"14.00\">class = Survived</text>\n</g>\n<!-- 9&#45;&gt;11 -->\n<g id=\"edge11\" class=\"edge\"><title>9-&gt;11</title>\n<path fill=\"none\" stroke=\"black\" d=\"M628.747,-103.726C636.663,-94.6966 645.056,-85.1235 652.983,-76.0816\"/>\n<polygon fill=\"black\" stroke=\"black\" points=\"655.845,-78.1263 659.806,-68.2996 650.582,-73.5117 655.845,-78.1263\"/>\n</g>\n<!-- 13 -->\n<g id=\"node14\" class=\"node\"><title>13</title>\n<polygon fill=\"#c3e1f7\" stroke=\"black\" points=\"872,-68 762,-68 762,-0 872,-0 872,-68\"/>\n<text text-anchor=\"middle\" x=\"817\" y=\"-52.8\" font-family=\"Times New Roman,serif\" font-size=\"14.00\">entropy = 0.977</text>\n<text text-anchor=\"middle\" x=\"817\" y=\"-37.8\" font-family=\"Times New Roman,serif\" font-size=\"14.00\">samples = 117</text>\n<text text-anchor=\"middle\" x=\"817\" y=\"-22.8\" font-family=\"Times New Roman,serif\" font-size=\"14.00\">value = [48, 69]</text>\n<text text-anchor=\"middle\" x=\"817\" y=\"-7.8\" font-family=\"Times New Roman,serif\" font-size=\"14.00\">class = Survived</text>\n</g>\n<!-- 12&#45;&gt;13 -->\n<g id=\"edge13\" class=\"edge\"><title>12-&gt;13</title>\n<path fill=\"none\" stroke=\"black\" d=\"M817,-103.726C817,-95.5175 817,-86.8595 817,-78.56\"/>\n<polygon fill=\"black\" stroke=\"black\" points=\"820.5,-78.2996 817,-68.2996 813.5,-78.2996 820.5,-78.2996\"/>\n</g>\n<!-- 14 -->\n<g id=\"node15\" class=\"node\"><title>14</title>\n<polygon fill=\"#e89152\" stroke=\"black\" points=\"996,-68 890,-68 890,-0 996,-0 996,-68\"/>\n<text text-anchor=\"middle\" x=\"943\" y=\"-52.8\" font-family=\"Times New Roman,serif\" font-size=\"14.00\">entropy = 0.503</text>\n<text text-anchor=\"middle\" x=\"943\" y=\"-37.8\" font-family=\"Times New Roman,serif\" font-size=\"14.00\">samples = 27</text>\n<text text-anchor=\"middle\" x=\"943\" y=\"-22.8\" font-family=\"Times New Roman,serif\" font-size=\"14.00\">value = [24, 3]</text>\n<text text-anchor=\"middle\" x=\"943\" y=\"-7.8\" font-family=\"Times New Roman,serif\" font-size=\"14.00\">class = Died</text>\n</g>\n<!-- 12&#45;&gt;14 -->\n<g id=\"edge14\" class=\"edge\"><title>12-&gt;14</title>\n<path fill=\"none\" stroke=\"black\" d=\"M863.918,-103.726C874.728,-94.3318 886.215,-84.349 896.986,-74.9883\"/>\n<polygon fill=\"black\" stroke=\"black\" points=\"899.43,-77.501 904.683,-68.2996 894.839,-72.2174 899.43,-77.501\"/>\n</g>\n</g>\n</svg>"
     },
     "metadata": {}
    }
   ],
   "metadata": {}
  },
  {
   "cell_type": "code",
   "execution_count": 40,
   "source": [
    "from sklearn.model_selection import train_test_split"
   ],
   "outputs": [],
   "metadata": {}
  },
  {
   "cell_type": "code",
   "execution_count": 41,
   "source": [
    "X_train, X_test, y_train, y_test = train_test_split(X, y, test_size=0.33, random_state=42)"
   ],
   "outputs": [],
   "metadata": {}
  },
  {
   "cell_type": "code",
   "execution_count": 42,
   "source": [
    "clf.score(X, y)"
   ],
   "outputs": [
    {
     "output_type": "execute_result",
     "data": {
      "text/plain": [
       "0.8226711560044894"
      ]
     },
     "metadata": {},
     "execution_count": 42
    }
   ],
   "metadata": {}
  },
  {
   "cell_type": "code",
   "execution_count": 43,
   "source": [
    "clf.fit(X_train, y_train)"
   ],
   "outputs": [
    {
     "output_type": "execute_result",
     "data": {
      "text/plain": [
       "DecisionTreeClassifier(criterion='entropy', max_depth=3)"
      ]
     },
     "metadata": {},
     "execution_count": 43
    }
   ],
   "metadata": {}
  },
  {
   "cell_type": "code",
   "execution_count": 44,
   "source": [
    "clf.score(X_train, y_train)"
   ],
   "outputs": [
    {
     "output_type": "execute_result",
     "data": {
      "text/plain": [
       "0.8238255033557047"
      ]
     },
     "metadata": {},
     "execution_count": 44
    }
   ],
   "metadata": {}
  },
  {
   "cell_type": "code",
   "execution_count": 45,
   "source": [
    "clf.fit(X_test, y_test)"
   ],
   "outputs": [
    {
     "output_type": "execute_result",
     "data": {
      "text/plain": [
       "DecisionTreeClassifier(criterion='entropy', max_depth=3)"
      ]
     },
     "metadata": {},
     "execution_count": 45
    }
   ],
   "metadata": {}
  },
  {
   "cell_type": "code",
   "execution_count": 46,
   "source": [
    "clf.score(X_test, y_test)"
   ],
   "outputs": [
    {
     "output_type": "execute_result",
     "data": {
      "text/plain": [
       "0.8169491525423729"
      ]
     },
     "metadata": {},
     "execution_count": 46
    }
   ],
   "metadata": {}
  },
  {
   "cell_type": "code",
   "execution_count": 47,
   "source": [
    "max_depth_values = range(1, 100)"
   ],
   "outputs": [],
   "metadata": {}
  },
  {
   "cell_type": "code",
   "execution_count": 48,
   "source": [
    "scores_data = pd.DataFrame()"
   ],
   "outputs": [],
   "metadata": {}
  },
  {
   "cell_type": "code",
   "execution_count": 49,
   "source": [
    "for max_depth in max_depth_values:\r\n",
    "    clf = tree.DecisionTreeClassifier(criterion='entropy', max_depth=max_depth)\r\n",
    "    clf.fit(X_train, y_train)\r\n",
    "    train_score = clf.score(X_train, y_train)\r\n",
    "    test_score = clf.score(X_test, y_test)\r\n",
    "\r\n",
    "    temp_score_data = pd.DataFrame({'max_depth': [max_depth],\r\n",
    "                                    'train_score':[train_score],\r\n",
    "                                    'test_score':[test_score]})\r\n",
    "\r\n",
    "    scores_data = scores_data.append(temp_score_data)"
   ],
   "outputs": [],
   "metadata": {}
  },
  {
   "cell_type": "code",
   "execution_count": 50,
   "source": [
    "scores_data_long = pd.melt(scores_data, id_vars=['max_depth'], value_vars=['train_score', 'test_score'], var_name='set_type', value_name='score')"
   ],
   "outputs": [],
   "metadata": {}
  },
  {
   "cell_type": "code",
   "execution_count": 51,
   "source": [
    "scores_data_long.head()"
   ],
   "outputs": [
    {
     "output_type": "execute_result",
     "data": {
      "text/plain": [
       "   max_depth     set_type     score\n",
       "0          1  train_score  0.781879\n",
       "1          2  train_score  0.805369\n",
       "2          3  train_score  0.823826\n",
       "3          4  train_score  0.833893\n",
       "4          5  train_score  0.840604"
      ],
      "text/html": [
       "<div>\n",
       "<style scoped>\n",
       "    .dataframe tbody tr th:only-of-type {\n",
       "        vertical-align: middle;\n",
       "    }\n",
       "\n",
       "    .dataframe tbody tr th {\n",
       "        vertical-align: top;\n",
       "    }\n",
       "\n",
       "    .dataframe thead th {\n",
       "        text-align: right;\n",
       "    }\n",
       "</style>\n",
       "<table border=\"1\" class=\"dataframe\">\n",
       "  <thead>\n",
       "    <tr style=\"text-align: right;\">\n",
       "      <th></th>\n",
       "      <th>max_depth</th>\n",
       "      <th>set_type</th>\n",
       "      <th>score</th>\n",
       "    </tr>\n",
       "  </thead>\n",
       "  <tbody>\n",
       "    <tr>\n",
       "      <th>0</th>\n",
       "      <td>1</td>\n",
       "      <td>train_score</td>\n",
       "      <td>0.781879</td>\n",
       "    </tr>\n",
       "    <tr>\n",
       "      <th>1</th>\n",
       "      <td>2</td>\n",
       "      <td>train_score</td>\n",
       "      <td>0.805369</td>\n",
       "    </tr>\n",
       "    <tr>\n",
       "      <th>2</th>\n",
       "      <td>3</td>\n",
       "      <td>train_score</td>\n",
       "      <td>0.823826</td>\n",
       "    </tr>\n",
       "    <tr>\n",
       "      <th>3</th>\n",
       "      <td>4</td>\n",
       "      <td>train_score</td>\n",
       "      <td>0.833893</td>\n",
       "    </tr>\n",
       "    <tr>\n",
       "      <th>4</th>\n",
       "      <td>5</td>\n",
       "      <td>train_score</td>\n",
       "      <td>0.840604</td>\n",
       "    </tr>\n",
       "  </tbody>\n",
       "</table>\n",
       "</div>"
      ]
     },
     "metadata": {},
     "execution_count": 51
    }
   ],
   "metadata": {}
  },
  {
   "cell_type": "code",
   "execution_count": 52,
   "source": [
    "sns.lineplot(x=\"max_depth\", y=\"score\", hue=\"set_type\", data=scores_data_long)"
   ],
   "outputs": [
    {
     "output_type": "execute_result",
     "data": {
      "text/plain": [
       "<AxesSubplot:xlabel='max_depth', ylabel='score'>"
      ]
     },
     "metadata": {},
     "execution_count": 52
    },
    {
     "output_type": "display_data",
     "data": {
      "text/plain": [
       "<Figure size 432x288 with 1 Axes>"
      ],
      "image/svg+xml": "<?xml version=\"1.0\" encoding=\"utf-8\" standalone=\"no\"?>\r\n<!DOCTYPE svg PUBLIC \"-//W3C//DTD SVG 1.1//EN\"\r\n  \"http://www.w3.org/Graphics/SVG/1.1/DTD/svg11.dtd\">\r\n<!-- Created with matplotlib (https://matplotlib.org/) -->\r\n<svg height=\"262.474375pt\" version=\"1.1\" viewBox=\"0 0 392.14375 262.474375\" width=\"392.14375pt\" xmlns=\"http://www.w3.org/2000/svg\" xmlns:xlink=\"http://www.w3.org/1999/xlink\">\r\n <metadata>\r\n  <rdf:RDF xmlns:cc=\"http://creativecommons.org/ns#\" xmlns:dc=\"http://purl.org/dc/elements/1.1/\" xmlns:rdf=\"http://www.w3.org/1999/02/22-rdf-syntax-ns#\">\r\n   <cc:Work>\r\n    <dc:type rdf:resource=\"http://purl.org/dc/dcmitype/StillImage\"/>\r\n    <dc:date>2021-08-13T22:43:57.777915</dc:date>\r\n    <dc:format>image/svg+xml</dc:format>\r\n    <dc:creator>\r\n     <cc:Agent>\r\n      <dc:title>Matplotlib v3.3.4, https://matplotlib.org/</dc:title>\r\n     </cc:Agent>\r\n    </dc:creator>\r\n   </cc:Work>\r\n  </rdf:RDF>\r\n </metadata>\r\n <defs>\r\n  <style type=\"text/css\">*{stroke-linecap:butt;stroke-linejoin:round;}</style>\r\n </defs>\r\n <g id=\"figure_1\">\r\n  <g id=\"patch_1\">\r\n   <path d=\"M 0 262.474375 \r\nL 392.14375 262.474375 \r\nL 392.14375 0 \r\nL 0 0 \r\nz\r\n\" style=\"fill:none;\"/>\r\n  </g>\r\n  <g id=\"axes_1\">\r\n   <g id=\"patch_2\">\r\n    <path d=\"M 50.14375 224.64 \r\nL 384.94375 224.64 \r\nL 384.94375 7.2 \r\nL 50.14375 7.2 \r\nz\r\n\" style=\"fill:#ffffff;\"/>\r\n   </g>\r\n   <g id=\"matplotlib.axis_1\">\r\n    <g id=\"xtick_1\">\r\n     <g id=\"line2d_1\">\r\n      <defs>\r\n       <path d=\"M 0 0 \r\nL 0 3.5 \r\n\" id=\"m03ca91f41f\" style=\"stroke:#000000;stroke-width:0.8;\"/>\r\n      </defs>\r\n      <g>\r\n       <use style=\"stroke:#000000;stroke-width:0.8;\" x=\"62.25618\" xlink:href=\"#m03ca91f41f\" y=\"224.64\"/>\r\n      </g>\r\n     </g>\r\n     <g id=\"text_1\">\r\n      <!-- 0 -->\r\n      <g transform=\"translate(59.07493 239.238438)scale(0.1 -0.1)\">\r\n       <defs>\r\n        <path d=\"M 31.78125 66.40625 \r\nQ 24.171875 66.40625 20.328125 58.90625 \r\nQ 16.5 51.421875 16.5 36.375 \r\nQ 16.5 21.390625 20.328125 13.890625 \r\nQ 24.171875 6.390625 31.78125 6.390625 \r\nQ 39.453125 6.390625 43.28125 13.890625 \r\nQ 47.125 21.390625 47.125 36.375 \r\nQ 47.125 51.421875 43.28125 58.90625 \r\nQ 39.453125 66.40625 31.78125 66.40625 \r\nz\r\nM 31.78125 74.21875 \r\nQ 44.046875 74.21875 50.515625 64.515625 \r\nQ 56.984375 54.828125 56.984375 36.375 \r\nQ 56.984375 17.96875 50.515625 8.265625 \r\nQ 44.046875 -1.421875 31.78125 -1.421875 \r\nQ 19.53125 -1.421875 13.0625 8.265625 \r\nQ 6.59375 17.96875 6.59375 36.375 \r\nQ 6.59375 54.828125 13.0625 64.515625 \r\nQ 19.53125 74.21875 31.78125 74.21875 \r\nz\r\n\" id=\"DejaVuSans-48\"/>\r\n       </defs>\r\n       <use xlink:href=\"#DejaVuSans-48\"/>\r\n      </g>\r\n     </g>\r\n    </g>\r\n    <g id=\"xtick_2\">\r\n     <g id=\"line2d_2\">\r\n      <g>\r\n       <use style=\"stroke:#000000;stroke-width:0.8;\" x=\"124.371208\" xlink:href=\"#m03ca91f41f\" y=\"224.64\"/>\r\n      </g>\r\n     </g>\r\n     <g id=\"text_2\">\r\n      <!-- 20 -->\r\n      <g transform=\"translate(118.008708 239.238438)scale(0.1 -0.1)\">\r\n       <defs>\r\n        <path d=\"M 19.1875 8.296875 \r\nL 53.609375 8.296875 \r\nL 53.609375 0 \r\nL 7.328125 0 \r\nL 7.328125 8.296875 \r\nQ 12.9375 14.109375 22.625 23.890625 \r\nQ 32.328125 33.6875 34.8125 36.53125 \r\nQ 39.546875 41.84375 41.421875 45.53125 \r\nQ 43.3125 49.21875 43.3125 52.78125 \r\nQ 43.3125 58.59375 39.234375 62.25 \r\nQ 35.15625 65.921875 28.609375 65.921875 \r\nQ 23.96875 65.921875 18.8125 64.3125 \r\nQ 13.671875 62.703125 7.8125 59.421875 \r\nL 7.8125 69.390625 \r\nQ 13.765625 71.78125 18.9375 73 \r\nQ 24.125 74.21875 28.421875 74.21875 \r\nQ 39.75 74.21875 46.484375 68.546875 \r\nQ 53.21875 62.890625 53.21875 53.421875 \r\nQ 53.21875 48.921875 51.53125 44.890625 \r\nQ 49.859375 40.875 45.40625 35.40625 \r\nQ 44.1875 33.984375 37.640625 27.21875 \r\nQ 31.109375 20.453125 19.1875 8.296875 \r\nz\r\n\" id=\"DejaVuSans-50\"/>\r\n       </defs>\r\n       <use xlink:href=\"#DejaVuSans-50\"/>\r\n       <use x=\"63.623047\" xlink:href=\"#DejaVuSans-48\"/>\r\n      </g>\r\n     </g>\r\n    </g>\r\n    <g id=\"xtick_3\">\r\n     <g id=\"line2d_3\">\r\n      <g>\r\n       <use style=\"stroke:#000000;stroke-width:0.8;\" x=\"186.486236\" xlink:href=\"#m03ca91f41f\" y=\"224.64\"/>\r\n      </g>\r\n     </g>\r\n     <g id=\"text_3\">\r\n      <!-- 40 -->\r\n      <g transform=\"translate(180.123736 239.238438)scale(0.1 -0.1)\">\r\n       <defs>\r\n        <path d=\"M 37.796875 64.3125 \r\nL 12.890625 25.390625 \r\nL 37.796875 25.390625 \r\nz\r\nM 35.203125 72.90625 \r\nL 47.609375 72.90625 \r\nL 47.609375 25.390625 \r\nL 58.015625 25.390625 \r\nL 58.015625 17.1875 \r\nL 47.609375 17.1875 \r\nL 47.609375 0 \r\nL 37.796875 0 \r\nL 37.796875 17.1875 \r\nL 4.890625 17.1875 \r\nL 4.890625 26.703125 \r\nz\r\n\" id=\"DejaVuSans-52\"/>\r\n       </defs>\r\n       <use xlink:href=\"#DejaVuSans-52\"/>\r\n       <use x=\"63.623047\" xlink:href=\"#DejaVuSans-48\"/>\r\n      </g>\r\n     </g>\r\n    </g>\r\n    <g id=\"xtick_4\">\r\n     <g id=\"line2d_4\">\r\n      <g>\r\n       <use style=\"stroke:#000000;stroke-width:0.8;\" x=\"248.601264\" xlink:href=\"#m03ca91f41f\" y=\"224.64\"/>\r\n      </g>\r\n     </g>\r\n     <g id=\"text_4\">\r\n      <!-- 60 -->\r\n      <g transform=\"translate(242.238764 239.238438)scale(0.1 -0.1)\">\r\n       <defs>\r\n        <path d=\"M 33.015625 40.375 \r\nQ 26.375 40.375 22.484375 35.828125 \r\nQ 18.609375 31.296875 18.609375 23.390625 \r\nQ 18.609375 15.53125 22.484375 10.953125 \r\nQ 26.375 6.390625 33.015625 6.390625 \r\nQ 39.65625 6.390625 43.53125 10.953125 \r\nQ 47.40625 15.53125 47.40625 23.390625 \r\nQ 47.40625 31.296875 43.53125 35.828125 \r\nQ 39.65625 40.375 33.015625 40.375 \r\nz\r\nM 52.59375 71.296875 \r\nL 52.59375 62.3125 \r\nQ 48.875 64.0625 45.09375 64.984375 \r\nQ 41.3125 65.921875 37.59375 65.921875 \r\nQ 27.828125 65.921875 22.671875 59.328125 \r\nQ 17.53125 52.734375 16.796875 39.40625 \r\nQ 19.671875 43.65625 24.015625 45.921875 \r\nQ 28.375 48.1875 33.59375 48.1875 \r\nQ 44.578125 48.1875 50.953125 41.515625 \r\nQ 57.328125 34.859375 57.328125 23.390625 \r\nQ 57.328125 12.15625 50.6875 5.359375 \r\nQ 44.046875 -1.421875 33.015625 -1.421875 \r\nQ 20.359375 -1.421875 13.671875 8.265625 \r\nQ 6.984375 17.96875 6.984375 36.375 \r\nQ 6.984375 53.65625 15.1875 63.9375 \r\nQ 23.390625 74.21875 37.203125 74.21875 \r\nQ 40.921875 74.21875 44.703125 73.484375 \r\nQ 48.484375 72.75 52.59375 71.296875 \r\nz\r\n\" id=\"DejaVuSans-54\"/>\r\n       </defs>\r\n       <use xlink:href=\"#DejaVuSans-54\"/>\r\n       <use x=\"63.623047\" xlink:href=\"#DejaVuSans-48\"/>\r\n      </g>\r\n     </g>\r\n    </g>\r\n    <g id=\"xtick_5\">\r\n     <g id=\"line2d_5\">\r\n      <g>\r\n       <use style=\"stroke:#000000;stroke-width:0.8;\" x=\"310.716292\" xlink:href=\"#m03ca91f41f\" y=\"224.64\"/>\r\n      </g>\r\n     </g>\r\n     <g id=\"text_5\">\r\n      <!-- 80 -->\r\n      <g transform=\"translate(304.353792 239.238438)scale(0.1 -0.1)\">\r\n       <defs>\r\n        <path d=\"M 31.78125 34.625 \r\nQ 24.75 34.625 20.71875 30.859375 \r\nQ 16.703125 27.09375 16.703125 20.515625 \r\nQ 16.703125 13.921875 20.71875 10.15625 \r\nQ 24.75 6.390625 31.78125 6.390625 \r\nQ 38.8125 6.390625 42.859375 10.171875 \r\nQ 46.921875 13.96875 46.921875 20.515625 \r\nQ 46.921875 27.09375 42.890625 30.859375 \r\nQ 38.875 34.625 31.78125 34.625 \r\nz\r\nM 21.921875 38.8125 \r\nQ 15.578125 40.375 12.03125 44.71875 \r\nQ 8.5 49.078125 8.5 55.328125 \r\nQ 8.5 64.0625 14.71875 69.140625 \r\nQ 20.953125 74.21875 31.78125 74.21875 \r\nQ 42.671875 74.21875 48.875 69.140625 \r\nQ 55.078125 64.0625 55.078125 55.328125 \r\nQ 55.078125 49.078125 51.53125 44.71875 \r\nQ 48 40.375 41.703125 38.8125 \r\nQ 48.828125 37.15625 52.796875 32.3125 \r\nQ 56.78125 27.484375 56.78125 20.515625 \r\nQ 56.78125 9.90625 50.3125 4.234375 \r\nQ 43.84375 -1.421875 31.78125 -1.421875 \r\nQ 19.734375 -1.421875 13.25 4.234375 \r\nQ 6.78125 9.90625 6.78125 20.515625 \r\nQ 6.78125 27.484375 10.78125 32.3125 \r\nQ 14.796875 37.15625 21.921875 38.8125 \r\nz\r\nM 18.3125 54.390625 \r\nQ 18.3125 48.734375 21.84375 45.5625 \r\nQ 25.390625 42.390625 31.78125 42.390625 \r\nQ 38.140625 42.390625 41.71875 45.5625 \r\nQ 45.3125 48.734375 45.3125 54.390625 \r\nQ 45.3125 60.0625 41.71875 63.234375 \r\nQ 38.140625 66.40625 31.78125 66.40625 \r\nQ 25.390625 66.40625 21.84375 63.234375 \r\nQ 18.3125 60.0625 18.3125 54.390625 \r\nz\r\n\" id=\"DejaVuSans-56\"/>\r\n       </defs>\r\n       <use xlink:href=\"#DejaVuSans-56\"/>\r\n       <use x=\"63.623047\" xlink:href=\"#DejaVuSans-48\"/>\r\n      </g>\r\n     </g>\r\n    </g>\r\n    <g id=\"xtick_6\">\r\n     <g id=\"line2d_6\">\r\n      <g>\r\n       <use style=\"stroke:#000000;stroke-width:0.8;\" x=\"372.83132\" xlink:href=\"#m03ca91f41f\" y=\"224.64\"/>\r\n      </g>\r\n     </g>\r\n     <g id=\"text_6\">\r\n      <!-- 100 -->\r\n      <g transform=\"translate(363.28757 239.238438)scale(0.1 -0.1)\">\r\n       <defs>\r\n        <path d=\"M 12.40625 8.296875 \r\nL 28.515625 8.296875 \r\nL 28.515625 63.921875 \r\nL 10.984375 60.40625 \r\nL 10.984375 69.390625 \r\nL 28.421875 72.90625 \r\nL 38.28125 72.90625 \r\nL 38.28125 8.296875 \r\nL 54.390625 8.296875 \r\nL 54.390625 0 \r\nL 12.40625 0 \r\nz\r\n\" id=\"DejaVuSans-49\"/>\r\n       </defs>\r\n       <use xlink:href=\"#DejaVuSans-49\"/>\r\n       <use x=\"63.623047\" xlink:href=\"#DejaVuSans-48\"/>\r\n       <use x=\"127.246094\" xlink:href=\"#DejaVuSans-48\"/>\r\n      </g>\r\n     </g>\r\n    </g>\r\n    <g id=\"text_7\">\r\n     <!-- max_depth -->\r\n     <g transform=\"translate(189.596094 252.916562)scale(0.1 -0.1)\">\r\n      <defs>\r\n       <path d=\"M 52 44.1875 \r\nQ 55.375 50.25 60.0625 53.125 \r\nQ 64.75 56 71.09375 56 \r\nQ 79.640625 56 84.28125 50.015625 \r\nQ 88.921875 44.046875 88.921875 33.015625 \r\nL 88.921875 0 \r\nL 79.890625 0 \r\nL 79.890625 32.71875 \r\nQ 79.890625 40.578125 77.09375 44.375 \r\nQ 74.3125 48.1875 68.609375 48.1875 \r\nQ 61.625 48.1875 57.5625 43.546875 \r\nQ 53.515625 38.921875 53.515625 30.90625 \r\nL 53.515625 0 \r\nL 44.484375 0 \r\nL 44.484375 32.71875 \r\nQ 44.484375 40.625 41.703125 44.40625 \r\nQ 38.921875 48.1875 33.109375 48.1875 \r\nQ 26.21875 48.1875 22.15625 43.53125 \r\nQ 18.109375 38.875 18.109375 30.90625 \r\nL 18.109375 0 \r\nL 9.078125 0 \r\nL 9.078125 54.6875 \r\nL 18.109375 54.6875 \r\nL 18.109375 46.1875 \r\nQ 21.1875 51.21875 25.484375 53.609375 \r\nQ 29.78125 56 35.6875 56 \r\nQ 41.65625 56 45.828125 52.96875 \r\nQ 50 49.953125 52 44.1875 \r\nz\r\n\" id=\"DejaVuSans-109\"/>\r\n       <path d=\"M 34.28125 27.484375 \r\nQ 23.390625 27.484375 19.1875 25 \r\nQ 14.984375 22.515625 14.984375 16.5 \r\nQ 14.984375 11.71875 18.140625 8.90625 \r\nQ 21.296875 6.109375 26.703125 6.109375 \r\nQ 34.1875 6.109375 38.703125 11.40625 \r\nQ 43.21875 16.703125 43.21875 25.484375 \r\nL 43.21875 27.484375 \r\nz\r\nM 52.203125 31.203125 \r\nL 52.203125 0 \r\nL 43.21875 0 \r\nL 43.21875 8.296875 \r\nQ 40.140625 3.328125 35.546875 0.953125 \r\nQ 30.953125 -1.421875 24.3125 -1.421875 \r\nQ 15.921875 -1.421875 10.953125 3.296875 \r\nQ 6 8.015625 6 15.921875 \r\nQ 6 25.140625 12.171875 29.828125 \r\nQ 18.359375 34.515625 30.609375 34.515625 \r\nL 43.21875 34.515625 \r\nL 43.21875 35.40625 \r\nQ 43.21875 41.609375 39.140625 45 \r\nQ 35.0625 48.390625 27.6875 48.390625 \r\nQ 23 48.390625 18.546875 47.265625 \r\nQ 14.109375 46.140625 10.015625 43.890625 \r\nL 10.015625 52.203125 \r\nQ 14.9375 54.109375 19.578125 55.046875 \r\nQ 24.21875 56 28.609375 56 \r\nQ 40.484375 56 46.34375 49.84375 \r\nQ 52.203125 43.703125 52.203125 31.203125 \r\nz\r\n\" id=\"DejaVuSans-97\"/>\r\n       <path d=\"M 54.890625 54.6875 \r\nL 35.109375 28.078125 \r\nL 55.90625 0 \r\nL 45.3125 0 \r\nL 29.390625 21.484375 \r\nL 13.484375 0 \r\nL 2.875 0 \r\nL 24.125 28.609375 \r\nL 4.6875 54.6875 \r\nL 15.28125 54.6875 \r\nL 29.78125 35.203125 \r\nL 44.28125 54.6875 \r\nz\r\n\" id=\"DejaVuSans-120\"/>\r\n       <path d=\"M 50.984375 -16.609375 \r\nL 50.984375 -23.578125 \r\nL -0.984375 -23.578125 \r\nL -0.984375 -16.609375 \r\nz\r\n\" id=\"DejaVuSans-95\"/>\r\n       <path d=\"M 45.40625 46.390625 \r\nL 45.40625 75.984375 \r\nL 54.390625 75.984375 \r\nL 54.390625 0 \r\nL 45.40625 0 \r\nL 45.40625 8.203125 \r\nQ 42.578125 3.328125 38.25 0.953125 \r\nQ 33.9375 -1.421875 27.875 -1.421875 \r\nQ 17.96875 -1.421875 11.734375 6.484375 \r\nQ 5.515625 14.40625 5.515625 27.296875 \r\nQ 5.515625 40.1875 11.734375 48.09375 \r\nQ 17.96875 56 27.875 56 \r\nQ 33.9375 56 38.25 53.625 \r\nQ 42.578125 51.265625 45.40625 46.390625 \r\nz\r\nM 14.796875 27.296875 \r\nQ 14.796875 17.390625 18.875 11.75 \r\nQ 22.953125 6.109375 30.078125 6.109375 \r\nQ 37.203125 6.109375 41.296875 11.75 \r\nQ 45.40625 17.390625 45.40625 27.296875 \r\nQ 45.40625 37.203125 41.296875 42.84375 \r\nQ 37.203125 48.484375 30.078125 48.484375 \r\nQ 22.953125 48.484375 18.875 42.84375 \r\nQ 14.796875 37.203125 14.796875 27.296875 \r\nz\r\n\" id=\"DejaVuSans-100\"/>\r\n       <path d=\"M 56.203125 29.59375 \r\nL 56.203125 25.203125 \r\nL 14.890625 25.203125 \r\nQ 15.484375 15.921875 20.484375 11.0625 \r\nQ 25.484375 6.203125 34.421875 6.203125 \r\nQ 39.59375 6.203125 44.453125 7.46875 \r\nQ 49.3125 8.734375 54.109375 11.28125 \r\nL 54.109375 2.78125 \r\nQ 49.265625 0.734375 44.1875 -0.34375 \r\nQ 39.109375 -1.421875 33.890625 -1.421875 \r\nQ 20.796875 -1.421875 13.15625 6.1875 \r\nQ 5.515625 13.8125 5.515625 26.8125 \r\nQ 5.515625 40.234375 12.765625 48.109375 \r\nQ 20.015625 56 32.328125 56 \r\nQ 43.359375 56 49.78125 48.890625 \r\nQ 56.203125 41.796875 56.203125 29.59375 \r\nz\r\nM 47.21875 32.234375 \r\nQ 47.125 39.59375 43.09375 43.984375 \r\nQ 39.0625 48.390625 32.421875 48.390625 \r\nQ 24.90625 48.390625 20.390625 44.140625 \r\nQ 15.875 39.890625 15.1875 32.171875 \r\nz\r\n\" id=\"DejaVuSans-101\"/>\r\n       <path d=\"M 18.109375 8.203125 \r\nL 18.109375 -20.796875 \r\nL 9.078125 -20.796875 \r\nL 9.078125 54.6875 \r\nL 18.109375 54.6875 \r\nL 18.109375 46.390625 \r\nQ 20.953125 51.265625 25.265625 53.625 \r\nQ 29.59375 56 35.59375 56 \r\nQ 45.5625 56 51.78125 48.09375 \r\nQ 58.015625 40.1875 58.015625 27.296875 \r\nQ 58.015625 14.40625 51.78125 6.484375 \r\nQ 45.5625 -1.421875 35.59375 -1.421875 \r\nQ 29.59375 -1.421875 25.265625 0.953125 \r\nQ 20.953125 3.328125 18.109375 8.203125 \r\nz\r\nM 48.6875 27.296875 \r\nQ 48.6875 37.203125 44.609375 42.84375 \r\nQ 40.53125 48.484375 33.40625 48.484375 \r\nQ 26.265625 48.484375 22.1875 42.84375 \r\nQ 18.109375 37.203125 18.109375 27.296875 \r\nQ 18.109375 17.390625 22.1875 11.75 \r\nQ 26.265625 6.109375 33.40625 6.109375 \r\nQ 40.53125 6.109375 44.609375 11.75 \r\nQ 48.6875 17.390625 48.6875 27.296875 \r\nz\r\n\" id=\"DejaVuSans-112\"/>\r\n       <path d=\"M 18.3125 70.21875 \r\nL 18.3125 54.6875 \r\nL 36.8125 54.6875 \r\nL 36.8125 47.703125 \r\nL 18.3125 47.703125 \r\nL 18.3125 18.015625 \r\nQ 18.3125 11.328125 20.140625 9.421875 \r\nQ 21.96875 7.515625 27.59375 7.515625 \r\nL 36.8125 7.515625 \r\nL 36.8125 0 \r\nL 27.59375 0 \r\nQ 17.1875 0 13.234375 3.875 \r\nQ 9.28125 7.765625 9.28125 18.015625 \r\nL 9.28125 47.703125 \r\nL 2.6875 47.703125 \r\nL 2.6875 54.6875 \r\nL 9.28125 54.6875 \r\nL 9.28125 70.21875 \r\nz\r\n\" id=\"DejaVuSans-116\"/>\r\n       <path d=\"M 54.890625 33.015625 \r\nL 54.890625 0 \r\nL 45.90625 0 \r\nL 45.90625 32.71875 \r\nQ 45.90625 40.484375 42.875 44.328125 \r\nQ 39.84375 48.1875 33.796875 48.1875 \r\nQ 26.515625 48.1875 22.3125 43.546875 \r\nQ 18.109375 38.921875 18.109375 30.90625 \r\nL 18.109375 0 \r\nL 9.078125 0 \r\nL 9.078125 75.984375 \r\nL 18.109375 75.984375 \r\nL 18.109375 46.1875 \r\nQ 21.34375 51.125 25.703125 53.5625 \r\nQ 30.078125 56 35.796875 56 \r\nQ 45.21875 56 50.046875 50.171875 \r\nQ 54.890625 44.34375 54.890625 33.015625 \r\nz\r\n\" id=\"DejaVuSans-104\"/>\r\n      </defs>\r\n      <use xlink:href=\"#DejaVuSans-109\"/>\r\n      <use x=\"97.412109\" xlink:href=\"#DejaVuSans-97\"/>\r\n      <use x=\"158.691406\" xlink:href=\"#DejaVuSans-120\"/>\r\n      <use x=\"217.871094\" xlink:href=\"#DejaVuSans-95\"/>\r\n      <use x=\"267.871094\" xlink:href=\"#DejaVuSans-100\"/>\r\n      <use x=\"331.347656\" xlink:href=\"#DejaVuSans-101\"/>\r\n      <use x=\"392.871094\" xlink:href=\"#DejaVuSans-112\"/>\r\n      <use x=\"456.347656\" xlink:href=\"#DejaVuSans-116\"/>\r\n      <use x=\"495.556641\" xlink:href=\"#DejaVuSans-104\"/>\r\n     </g>\r\n    </g>\r\n   </g>\r\n   <g id=\"matplotlib.axis_2\">\r\n    <g id=\"ytick_1\">\r\n     <g id=\"line2d_7\">\r\n      <defs>\r\n       <path d=\"M 0 0 \r\nL -3.5 0 \r\n\" id=\"m60b99a4f0d\" style=\"stroke:#000000;stroke-width:0.8;\"/>\r\n      </defs>\r\n      <g>\r\n       <use style=\"stroke:#000000;stroke-width:0.8;\" x=\"50.14375\" xlink:href=\"#m60b99a4f0d\" y=\"219.992894\"/>\r\n      </g>\r\n     </g>\r\n     <g id=\"text_8\">\r\n      <!-- 0.75 -->\r\n      <g transform=\"translate(20.878125 223.792112)scale(0.1 -0.1)\">\r\n       <defs>\r\n        <path d=\"M 10.6875 12.40625 \r\nL 21 12.40625 \r\nL 21 0 \r\nL 10.6875 0 \r\nz\r\n\" id=\"DejaVuSans-46\"/>\r\n        <path d=\"M 8.203125 72.90625 \r\nL 55.078125 72.90625 \r\nL 55.078125 68.703125 \r\nL 28.609375 0 \r\nL 18.3125 0 \r\nL 43.21875 64.59375 \r\nL 8.203125 64.59375 \r\nz\r\n\" id=\"DejaVuSans-55\"/>\r\n        <path d=\"M 10.796875 72.90625 \r\nL 49.515625 72.90625 \r\nL 49.515625 64.59375 \r\nL 19.828125 64.59375 \r\nL 19.828125 46.734375 \r\nQ 21.96875 47.46875 24.109375 47.828125 \r\nQ 26.265625 48.1875 28.421875 48.1875 \r\nQ 40.625 48.1875 47.75 41.5 \r\nQ 54.890625 34.8125 54.890625 23.390625 \r\nQ 54.890625 11.625 47.5625 5.09375 \r\nQ 40.234375 -1.421875 26.90625 -1.421875 \r\nQ 22.3125 -1.421875 17.546875 -0.640625 \r\nQ 12.796875 0.140625 7.71875 1.703125 \r\nL 7.71875 11.625 \r\nQ 12.109375 9.234375 16.796875 8.0625 \r\nQ 21.484375 6.890625 26.703125 6.890625 \r\nQ 35.15625 6.890625 40.078125 11.328125 \r\nQ 45.015625 15.765625 45.015625 23.390625 \r\nQ 45.015625 31 40.078125 35.4375 \r\nQ 35.15625 39.890625 26.703125 39.890625 \r\nQ 22.75 39.890625 18.8125 39.015625 \r\nQ 14.890625 38.140625 10.796875 36.28125 \r\nz\r\n\" id=\"DejaVuSans-53\"/>\r\n       </defs>\r\n       <use xlink:href=\"#DejaVuSans-48\"/>\r\n       <use x=\"63.623047\" xlink:href=\"#DejaVuSans-46\"/>\r\n       <use x=\"95.410156\" xlink:href=\"#DejaVuSans-55\"/>\r\n       <use x=\"159.033203\" xlink:href=\"#DejaVuSans-53\"/>\r\n      </g>\r\n     </g>\r\n    </g>\r\n    <g id=\"ytick_2\">\r\n     <g id=\"line2d_8\">\r\n      <g>\r\n       <use style=\"stroke:#000000;stroke-width:0.8;\" x=\"50.14375\" xlink:href=\"#m60b99a4f0d\" y=\"175.856427\"/>\r\n      </g>\r\n     </g>\r\n     <g id=\"text_9\">\r\n      <!-- 0.80 -->\r\n      <g transform=\"translate(20.878125 179.655646)scale(0.1 -0.1)\">\r\n       <use xlink:href=\"#DejaVuSans-48\"/>\r\n       <use x=\"63.623047\" xlink:href=\"#DejaVuSans-46\"/>\r\n       <use x=\"95.410156\" xlink:href=\"#DejaVuSans-56\"/>\r\n       <use x=\"159.033203\" xlink:href=\"#DejaVuSans-48\"/>\r\n      </g>\r\n     </g>\r\n    </g>\r\n    <g id=\"ytick_3\">\r\n     <g id=\"line2d_9\">\r\n      <g>\r\n       <use style=\"stroke:#000000;stroke-width:0.8;\" x=\"50.14375\" xlink:href=\"#m60b99a4f0d\" y=\"131.719961\"/>\r\n      </g>\r\n     </g>\r\n     <g id=\"text_10\">\r\n      <!-- 0.85 -->\r\n      <g transform=\"translate(20.878125 135.51918)scale(0.1 -0.1)\">\r\n       <use xlink:href=\"#DejaVuSans-48\"/>\r\n       <use x=\"63.623047\" xlink:href=\"#DejaVuSans-46\"/>\r\n       <use x=\"95.410156\" xlink:href=\"#DejaVuSans-56\"/>\r\n       <use x=\"159.033203\" xlink:href=\"#DejaVuSans-53\"/>\r\n      </g>\r\n     </g>\r\n    </g>\r\n    <g id=\"ytick_4\">\r\n     <g id=\"line2d_10\">\r\n      <g>\r\n       <use style=\"stroke:#000000;stroke-width:0.8;\" x=\"50.14375\" xlink:href=\"#m60b99a4f0d\" y=\"87.583495\"/>\r\n      </g>\r\n     </g>\r\n     <g id=\"text_11\">\r\n      <!-- 0.90 -->\r\n      <g transform=\"translate(20.878125 91.382714)scale(0.1 -0.1)\">\r\n       <defs>\r\n        <path d=\"M 10.984375 1.515625 \r\nL 10.984375 10.5 \r\nQ 14.703125 8.734375 18.5 7.8125 \r\nQ 22.3125 6.890625 25.984375 6.890625 \r\nQ 35.75 6.890625 40.890625 13.453125 \r\nQ 46.046875 20.015625 46.78125 33.40625 \r\nQ 43.953125 29.203125 39.59375 26.953125 \r\nQ 35.25 24.703125 29.984375 24.703125 \r\nQ 19.046875 24.703125 12.671875 31.3125 \r\nQ 6.296875 37.9375 6.296875 49.421875 \r\nQ 6.296875 60.640625 12.9375 67.421875 \r\nQ 19.578125 74.21875 30.609375 74.21875 \r\nQ 43.265625 74.21875 49.921875 64.515625 \r\nQ 56.59375 54.828125 56.59375 36.375 \r\nQ 56.59375 19.140625 48.40625 8.859375 \r\nQ 40.234375 -1.421875 26.421875 -1.421875 \r\nQ 22.703125 -1.421875 18.890625 -0.6875 \r\nQ 15.09375 0.046875 10.984375 1.515625 \r\nz\r\nM 30.609375 32.421875 \r\nQ 37.25 32.421875 41.125 36.953125 \r\nQ 45.015625 41.5 45.015625 49.421875 \r\nQ 45.015625 57.28125 41.125 61.84375 \r\nQ 37.25 66.40625 30.609375 66.40625 \r\nQ 23.96875 66.40625 20.09375 61.84375 \r\nQ 16.21875 57.28125 16.21875 49.421875 \r\nQ 16.21875 41.5 20.09375 36.953125 \r\nQ 23.96875 32.421875 30.609375 32.421875 \r\nz\r\n\" id=\"DejaVuSans-57\"/>\r\n       </defs>\r\n       <use xlink:href=\"#DejaVuSans-48\"/>\r\n       <use x=\"63.623047\" xlink:href=\"#DejaVuSans-46\"/>\r\n       <use x=\"95.410156\" xlink:href=\"#DejaVuSans-57\"/>\r\n       <use x=\"159.033203\" xlink:href=\"#DejaVuSans-48\"/>\r\n      </g>\r\n     </g>\r\n    </g>\r\n    <g id=\"ytick_5\">\r\n     <g id=\"line2d_11\">\r\n      <g>\r\n       <use style=\"stroke:#000000;stroke-width:0.8;\" x=\"50.14375\" xlink:href=\"#m60b99a4f0d\" y=\"43.447029\"/>\r\n      </g>\r\n     </g>\r\n     <g id=\"text_12\">\r\n      <!-- 0.95 -->\r\n      <g transform=\"translate(20.878125 47.246248)scale(0.1 -0.1)\">\r\n       <use xlink:href=\"#DejaVuSans-48\"/>\r\n       <use x=\"63.623047\" xlink:href=\"#DejaVuSans-46\"/>\r\n       <use x=\"95.410156\" xlink:href=\"#DejaVuSans-57\"/>\r\n       <use x=\"159.033203\" xlink:href=\"#DejaVuSans-53\"/>\r\n      </g>\r\n     </g>\r\n    </g>\r\n    <g id=\"text_13\">\r\n     <!-- score -->\r\n     <g transform=\"translate(14.798438 129.352813)rotate(-90)scale(0.1 -0.1)\">\r\n      <defs>\r\n       <path d=\"M 44.28125 53.078125 \r\nL 44.28125 44.578125 \r\nQ 40.484375 46.53125 36.375 47.5 \r\nQ 32.28125 48.484375 27.875 48.484375 \r\nQ 21.1875 48.484375 17.84375 46.4375 \r\nQ 14.5 44.390625 14.5 40.28125 \r\nQ 14.5 37.15625 16.890625 35.375 \r\nQ 19.28125 33.59375 26.515625 31.984375 \r\nL 29.59375 31.296875 \r\nQ 39.15625 29.25 43.1875 25.515625 \r\nQ 47.21875 21.78125 47.21875 15.09375 \r\nQ 47.21875 7.46875 41.1875 3.015625 \r\nQ 35.15625 -1.421875 24.609375 -1.421875 \r\nQ 20.21875 -1.421875 15.453125 -0.5625 \r\nQ 10.6875 0.296875 5.421875 2 \r\nL 5.421875 11.28125 \r\nQ 10.40625 8.6875 15.234375 7.390625 \r\nQ 20.0625 6.109375 24.8125 6.109375 \r\nQ 31.15625 6.109375 34.5625 8.28125 \r\nQ 37.984375 10.453125 37.984375 14.40625 \r\nQ 37.984375 18.0625 35.515625 20.015625 \r\nQ 33.0625 21.96875 24.703125 23.78125 \r\nL 21.578125 24.515625 \r\nQ 13.234375 26.265625 9.515625 29.90625 \r\nQ 5.8125 33.546875 5.8125 39.890625 \r\nQ 5.8125 47.609375 11.28125 51.796875 \r\nQ 16.75 56 26.8125 56 \r\nQ 31.78125 56 36.171875 55.265625 \r\nQ 40.578125 54.546875 44.28125 53.078125 \r\nz\r\n\" id=\"DejaVuSans-115\"/>\r\n       <path d=\"M 48.78125 52.59375 \r\nL 48.78125 44.1875 \r\nQ 44.96875 46.296875 41.140625 47.34375 \r\nQ 37.3125 48.390625 33.40625 48.390625 \r\nQ 24.65625 48.390625 19.8125 42.84375 \r\nQ 14.984375 37.3125 14.984375 27.296875 \r\nQ 14.984375 17.28125 19.8125 11.734375 \r\nQ 24.65625 6.203125 33.40625 6.203125 \r\nQ 37.3125 6.203125 41.140625 7.25 \r\nQ 44.96875 8.296875 48.78125 10.40625 \r\nL 48.78125 2.09375 \r\nQ 45.015625 0.34375 40.984375 -0.53125 \r\nQ 36.96875 -1.421875 32.421875 -1.421875 \r\nQ 20.0625 -1.421875 12.78125 6.34375 \r\nQ 5.515625 14.109375 5.515625 27.296875 \r\nQ 5.515625 40.671875 12.859375 48.328125 \r\nQ 20.21875 56 33.015625 56 \r\nQ 37.15625 56 41.109375 55.140625 \r\nQ 45.0625 54.296875 48.78125 52.59375 \r\nz\r\n\" id=\"DejaVuSans-99\"/>\r\n       <path d=\"M 30.609375 48.390625 \r\nQ 23.390625 48.390625 19.1875 42.75 \r\nQ 14.984375 37.109375 14.984375 27.296875 \r\nQ 14.984375 17.484375 19.15625 11.84375 \r\nQ 23.34375 6.203125 30.609375 6.203125 \r\nQ 37.796875 6.203125 41.984375 11.859375 \r\nQ 46.1875 17.53125 46.1875 27.296875 \r\nQ 46.1875 37.015625 41.984375 42.703125 \r\nQ 37.796875 48.390625 30.609375 48.390625 \r\nz\r\nM 30.609375 56 \r\nQ 42.328125 56 49.015625 48.375 \r\nQ 55.71875 40.765625 55.71875 27.296875 \r\nQ 55.71875 13.875 49.015625 6.21875 \r\nQ 42.328125 -1.421875 30.609375 -1.421875 \r\nQ 18.84375 -1.421875 12.171875 6.21875 \r\nQ 5.515625 13.875 5.515625 27.296875 \r\nQ 5.515625 40.765625 12.171875 48.375 \r\nQ 18.84375 56 30.609375 56 \r\nz\r\n\" id=\"DejaVuSans-111\"/>\r\n       <path d=\"M 41.109375 46.296875 \r\nQ 39.59375 47.171875 37.8125 47.578125 \r\nQ 36.03125 48 33.890625 48 \r\nQ 26.265625 48 22.1875 43.046875 \r\nQ 18.109375 38.09375 18.109375 28.8125 \r\nL 18.109375 0 \r\nL 9.078125 0 \r\nL 9.078125 54.6875 \r\nL 18.109375 54.6875 \r\nL 18.109375 46.1875 \r\nQ 20.953125 51.171875 25.484375 53.578125 \r\nQ 30.03125 56 36.53125 56 \r\nQ 37.453125 56 38.578125 55.875 \r\nQ 39.703125 55.765625 41.0625 55.515625 \r\nz\r\n\" id=\"DejaVuSans-114\"/>\r\n      </defs>\r\n      <use xlink:href=\"#DejaVuSans-115\"/>\r\n      <use x=\"52.099609\" xlink:href=\"#DejaVuSans-99\"/>\r\n      <use x=\"107.080078\" xlink:href=\"#DejaVuSans-111\"/>\r\n      <use x=\"168.261719\" xlink:href=\"#DejaVuSans-114\"/>\r\n      <use x=\"207.125\" xlink:href=\"#DejaVuSans-101\"/>\r\n     </g>\r\n    </g>\r\n   </g>\r\n   <g id=\"line2d_12\">\r\n    <path clip-path=\"url(#p627696f51e)\" d=\"M 65.361932 191.852194 \r\nL 68.467683 171.116941 \r\nL 71.573435 154.824957 \r\nL 74.679186 145.93842 \r\nL 77.784937 140.014062 \r\nL 80.890689 116.316631 \r\nL 83.99644 102.986826 \r\nL 87.102192 80.770484 \r\nL 90.207943 71.883947 \r\nL 93.313694 64.478499 \r\nL 96.419446 57.073052 \r\nL 99.525197 48.186515 \r\nL 102.630949 37.818889 \r\nL 105.7367 27.451263 \r\nL 108.842451 21.526905 \r\nL 111.948203 20.045815 \r\nL 115.053954 18.564726 \r\nL 118.159705 18.564726 \r\nL 121.265457 17.083636 \r\nL 124.371208 17.083636 \r\nL 127.47696 17.083636 \r\nL 130.582711 17.083636 \r\nL 133.688462 17.083636 \r\nL 136.794214 17.083636 \r\nL 139.899965 17.083636 \r\nL 143.005717 17.083636 \r\nL 146.111468 17.083636 \r\nL 149.217219 17.083636 \r\nL 152.322971 17.083636 \r\nL 155.428722 17.083636 \r\nL 158.534474 17.083636 \r\nL 161.640225 17.083636 \r\nL 164.745976 17.083636 \r\nL 167.851728 17.083636 \r\nL 170.957479 17.083636 \r\nL 174.063231 17.083636 \r\nL 177.168982 17.083636 \r\nL 180.274733 17.083636 \r\nL 183.380485 17.083636 \r\nL 186.486236 17.083636 \r\nL 189.591987 17.083636 \r\nL 192.697739 17.083636 \r\nL 195.80349 17.083636 \r\nL 198.909242 17.083636 \r\nL 202.014993 17.083636 \r\nL 205.120744 17.083636 \r\nL 208.226496 17.083636 \r\nL 211.332247 17.083636 \r\nL 214.437999 17.083636 \r\nL 217.54375 17.083636 \r\nL 220.649501 17.083636 \r\nL 223.755253 17.083636 \r\nL 226.861004 17.083636 \r\nL 229.966756 17.083636 \r\nL 233.072507 17.083636 \r\nL 236.178258 17.083636 \r\nL 239.28401 17.083636 \r\nL 242.389761 17.083636 \r\nL 245.495513 17.083636 \r\nL 248.601264 17.083636 \r\nL 251.707015 17.083636 \r\nL 254.812767 17.083636 \r\nL 257.918518 17.083636 \r\nL 261.024269 17.083636 \r\nL 264.130021 17.083636 \r\nL 267.235772 17.083636 \r\nL 270.341524 17.083636 \r\nL 273.447275 17.083636 \r\nL 276.553026 17.083636 \r\nL 279.658778 17.083636 \r\nL 282.764529 17.083636 \r\nL 285.870281 17.083636 \r\nL 288.976032 17.083636 \r\nL 292.081783 17.083636 \r\nL 295.187535 17.083636 \r\nL 298.293286 17.083636 \r\nL 301.399038 17.083636 \r\nL 304.504789 17.083636 \r\nL 307.61054 17.083636 \r\nL 310.716292 17.083636 \r\nL 313.822043 17.083636 \r\nL 316.927795 17.083636 \r\nL 320.033546 17.083636 \r\nL 323.139297 17.083636 \r\nL 326.245049 17.083636 \r\nL 329.3508 17.083636 \r\nL 332.456551 17.083636 \r\nL 335.562303 17.083636 \r\nL 338.668054 17.083636 \r\nL 341.773806 17.083636 \r\nL 344.879557 17.083636 \r\nL 347.985308 17.083636 \r\nL 351.09106 17.083636 \r\nL 354.196811 17.083636 \r\nL 357.302563 17.083636 \r\nL 360.408314 17.083636 \r\nL 363.514065 17.083636 \r\nL 366.619817 17.083636 \r\nL 369.725568 17.083636 \r\n\" style=\"fill:none;stroke:#1f77b4;stroke-linecap:square;stroke-width:1.5;\"/>\r\n   </g>\r\n   <g id=\"line2d_13\">\r\n    <path clip-path=\"url(#p627696f51e)\" d=\"M 65.361932 178.84873 \r\nL 68.467683 196.802547 \r\nL 71.573435 157.902611 \r\nL 74.679186 154.910308 \r\nL 77.784937 169.871822 \r\nL 80.890689 202.787152 \r\nL 83.99644 199.79485 \r\nL 87.102192 181.841033 \r\nL 90.207943 166.879519 \r\nL 93.313694 172.864125 \r\nL 96.419446 208.771758 \r\nL 99.525197 202.787152 \r\nL 102.630949 181.841033 \r\nL 105.7367 190.817941 \r\nL 108.842451 199.79485 \r\nL 111.948203 190.817941 \r\nL 115.053954 187.825639 \r\nL 118.159705 199.79485 \r\nL 121.265457 205.779455 \r\nL 124.371208 202.787152 \r\nL 127.47696 190.817941 \r\nL 130.582711 199.79485 \r\nL 133.688462 208.771758 \r\nL 136.794214 205.779455 \r\nL 139.899965 196.802547 \r\nL 143.005717 202.787152 \r\nL 146.111468 196.802547 \r\nL 149.217219 205.779455 \r\nL 152.322971 196.802547 \r\nL 155.428722 199.79485 \r\nL 158.534474 193.810244 \r\nL 161.640225 196.802547 \r\nL 164.745976 196.802547 \r\nL 167.851728 205.779455 \r\nL 170.957479 196.802547 \r\nL 174.063231 193.810244 \r\nL 177.168982 202.787152 \r\nL 180.274733 211.764061 \r\nL 183.380485 196.802547 \r\nL 186.486236 196.802547 \r\nL 189.591987 208.771758 \r\nL 192.697739 202.787152 \r\nL 195.80349 202.787152 \r\nL 198.909242 202.787152 \r\nL 202.014993 202.787152 \r\nL 205.120744 193.810244 \r\nL 208.226496 193.810244 \r\nL 211.332247 208.771758 \r\nL 214.437999 196.802547 \r\nL 217.54375 199.79485 \r\nL 220.649501 196.802547 \r\nL 223.755253 205.779455 \r\nL 226.861004 205.779455 \r\nL 229.966756 193.810244 \r\nL 233.072507 193.810244 \r\nL 236.178258 190.817941 \r\nL 239.28401 196.802547 \r\nL 242.389761 202.787152 \r\nL 245.495513 205.779455 \r\nL 248.601264 205.779455 \r\nL 251.707015 199.79485 \r\nL 254.812767 208.771758 \r\nL 257.918518 196.802547 \r\nL 261.024269 208.771758 \r\nL 264.130021 202.787152 \r\nL 267.235772 208.771758 \r\nL 270.341524 202.787152 \r\nL 273.447275 208.771758 \r\nL 276.553026 214.756364 \r\nL 279.658778 196.802547 \r\nL 282.764529 196.802547 \r\nL 285.870281 199.79485 \r\nL 288.976032 196.802547 \r\nL 292.081783 202.787152 \r\nL 295.187535 196.802547 \r\nL 298.293286 202.787152 \r\nL 301.399038 196.802547 \r\nL 304.504789 196.802547 \r\nL 307.61054 196.802547 \r\nL 310.716292 199.79485 \r\nL 313.822043 193.810244 \r\nL 316.927795 196.802547 \r\nL 320.033546 199.79485 \r\nL 323.139297 199.79485 \r\nL 326.245049 196.802547 \r\nL 329.3508 196.802547 \r\nL 332.456551 196.802547 \r\nL 335.562303 205.779455 \r\nL 338.668054 193.810244 \r\nL 341.773806 202.787152 \r\nL 344.879557 202.787152 \r\nL 347.985308 202.787152 \r\nL 351.09106 205.779455 \r\nL 354.196811 199.79485 \r\nL 357.302563 202.787152 \r\nL 360.408314 205.779455 \r\nL 363.514065 196.802547 \r\nL 366.619817 202.787152 \r\nL 369.725568 193.810244 \r\n\" style=\"fill:none;stroke:#ff7f0e;stroke-linecap:square;stroke-width:1.5;\"/>\r\n   </g>\r\n   <g id=\"line2d_14\"/>\r\n   <g id=\"line2d_15\"/>\r\n   <g id=\"patch_3\">\r\n    <path d=\"M 50.14375 224.64 \r\nL 50.14375 7.2 \r\n\" style=\"fill:none;stroke:#000000;stroke-linecap:square;stroke-linejoin:miter;stroke-width:0.8;\"/>\r\n   </g>\r\n   <g id=\"patch_4\">\r\n    <path d=\"M 384.94375 224.64 \r\nL 384.94375 7.2 \r\n\" style=\"fill:none;stroke:#000000;stroke-linecap:square;stroke-linejoin:miter;stroke-width:0.8;\"/>\r\n   </g>\r\n   <g id=\"patch_5\">\r\n    <path d=\"M 50.14375 224.64 \r\nL 384.94375 224.64 \r\n\" style=\"fill:none;stroke:#000000;stroke-linecap:square;stroke-linejoin:miter;stroke-width:0.8;\"/>\r\n   </g>\r\n   <g id=\"patch_6\">\r\n    <path d=\"M 50.14375 7.2 \r\nL 384.94375 7.2 \r\n\" style=\"fill:none;stroke:#000000;stroke-linecap:square;stroke-linejoin:miter;stroke-width:0.8;\"/>\r\n   </g>\r\n   <g id=\"legend_1\">\r\n    <g id=\"patch_7\">\r\n     <path d=\"M 290.803125 139.854375 \r\nL 377.94375 139.854375 \r\nQ 379.94375 139.854375 379.94375 137.854375 \r\nL 379.94375 93.985625 \r\nQ 379.94375 91.985625 377.94375 91.985625 \r\nL 290.803125 91.985625 \r\nQ 288.803125 91.985625 288.803125 93.985625 \r\nL 288.803125 137.854375 \r\nQ 288.803125 139.854375 290.803125 139.854375 \r\nz\r\n\" style=\"fill:#ffffff;opacity:0.8;stroke:#cccccc;stroke-linejoin:miter;\"/>\r\n    </g>\r\n    <g id=\"text_14\">\r\n     <!-- set_type -->\r\n     <g transform=\"translate(313.061719 103.584063)scale(0.1 -0.1)\">\r\n      <defs>\r\n       <path d=\"M 32.171875 -5.078125 \r\nQ 28.375 -14.84375 24.75 -17.8125 \r\nQ 21.140625 -20.796875 15.09375 -20.796875 \r\nL 7.90625 -20.796875 \r\nL 7.90625 -13.28125 \r\nL 13.1875 -13.28125 \r\nQ 16.890625 -13.28125 18.9375 -11.515625 \r\nQ 21 -9.765625 23.484375 -3.21875 \r\nL 25.09375 0.875 \r\nL 2.984375 54.6875 \r\nL 12.5 54.6875 \r\nL 29.59375 11.921875 \r\nL 46.6875 54.6875 \r\nL 56.203125 54.6875 \r\nz\r\n\" id=\"DejaVuSans-121\"/>\r\n      </defs>\r\n      <use xlink:href=\"#DejaVuSans-115\"/>\r\n      <use x=\"52.099609\" xlink:href=\"#DejaVuSans-101\"/>\r\n      <use x=\"113.623047\" xlink:href=\"#DejaVuSans-116\"/>\r\n      <use x=\"152.832031\" xlink:href=\"#DejaVuSans-95\"/>\r\n      <use x=\"202.832031\" xlink:href=\"#DejaVuSans-116\"/>\r\n      <use x=\"242.041016\" xlink:href=\"#DejaVuSans-121\"/>\r\n      <use x=\"301.220703\" xlink:href=\"#DejaVuSans-112\"/>\r\n      <use x=\"364.697266\" xlink:href=\"#DejaVuSans-101\"/>\r\n     </g>\r\n    </g>\r\n    <g id=\"line2d_16\">\r\n     <path d=\"M 292.803125 115.040313 \r\nL 312.803125 115.040313 \r\n\" style=\"fill:none;stroke:#1f77b4;stroke-linecap:square;stroke-width:1.5;\"/>\r\n    </g>\r\n    <g id=\"line2d_17\"/>\r\n    <g id=\"text_15\">\r\n     <!-- train_score -->\r\n     <g transform=\"translate(320.803125 118.540313)scale(0.1 -0.1)\">\r\n      <defs>\r\n       <path d=\"M 9.421875 54.6875 \r\nL 18.40625 54.6875 \r\nL 18.40625 0 \r\nL 9.421875 0 \r\nz\r\nM 9.421875 75.984375 \r\nL 18.40625 75.984375 \r\nL 18.40625 64.59375 \r\nL 9.421875 64.59375 \r\nz\r\n\" id=\"DejaVuSans-105\"/>\r\n       <path d=\"M 54.890625 33.015625 \r\nL 54.890625 0 \r\nL 45.90625 0 \r\nL 45.90625 32.71875 \r\nQ 45.90625 40.484375 42.875 44.328125 \r\nQ 39.84375 48.1875 33.796875 48.1875 \r\nQ 26.515625 48.1875 22.3125 43.546875 \r\nQ 18.109375 38.921875 18.109375 30.90625 \r\nL 18.109375 0 \r\nL 9.078125 0 \r\nL 9.078125 54.6875 \r\nL 18.109375 54.6875 \r\nL 18.109375 46.1875 \r\nQ 21.34375 51.125 25.703125 53.5625 \r\nQ 30.078125 56 35.796875 56 \r\nQ 45.21875 56 50.046875 50.171875 \r\nQ 54.890625 44.34375 54.890625 33.015625 \r\nz\r\n\" id=\"DejaVuSans-110\"/>\r\n      </defs>\r\n      <use xlink:href=\"#DejaVuSans-116\"/>\r\n      <use x=\"39.208984\" xlink:href=\"#DejaVuSans-114\"/>\r\n      <use x=\"80.322266\" xlink:href=\"#DejaVuSans-97\"/>\r\n      <use x=\"141.601562\" xlink:href=\"#DejaVuSans-105\"/>\r\n      <use x=\"169.384766\" xlink:href=\"#DejaVuSans-110\"/>\r\n      <use x=\"232.763672\" xlink:href=\"#DejaVuSans-95\"/>\r\n      <use x=\"282.763672\" xlink:href=\"#DejaVuSans-115\"/>\r\n      <use x=\"334.863281\" xlink:href=\"#DejaVuSans-99\"/>\r\n      <use x=\"389.84375\" xlink:href=\"#DejaVuSans-111\"/>\r\n      <use x=\"451.025391\" xlink:href=\"#DejaVuSans-114\"/>\r\n      <use x=\"489.888672\" xlink:href=\"#DejaVuSans-101\"/>\r\n     </g>\r\n    </g>\r\n    <g id=\"line2d_18\">\r\n     <path d=\"M 292.803125 129.996563 \r\nL 312.803125 129.996563 \r\n\" style=\"fill:none;stroke:#ff7f0e;stroke-linecap:square;stroke-width:1.5;\"/>\r\n    </g>\r\n    <g id=\"line2d_19\"/>\r\n    <g id=\"text_16\">\r\n     <!-- test_score -->\r\n     <g transform=\"translate(320.803125 133.496563)scale(0.1 -0.1)\">\r\n      <use xlink:href=\"#DejaVuSans-116\"/>\r\n      <use x=\"39.208984\" xlink:href=\"#DejaVuSans-101\"/>\r\n      <use x=\"100.732422\" xlink:href=\"#DejaVuSans-115\"/>\r\n      <use x=\"152.832031\" xlink:href=\"#DejaVuSans-116\"/>\r\n      <use x=\"192.041016\" xlink:href=\"#DejaVuSans-95\"/>\r\n      <use x=\"242.041016\" xlink:href=\"#DejaVuSans-115\"/>\r\n      <use x=\"294.140625\" xlink:href=\"#DejaVuSans-99\"/>\r\n      <use x=\"349.121094\" xlink:href=\"#DejaVuSans-111\"/>\r\n      <use x=\"410.302734\" xlink:href=\"#DejaVuSans-114\"/>\r\n      <use x=\"449.166016\" xlink:href=\"#DejaVuSans-101\"/>\r\n     </g>\r\n    </g>\r\n   </g>\r\n  </g>\r\n </g>\r\n <defs>\r\n  <clipPath id=\"p627696f51e\">\r\n   <rect height=\"217.44\" width=\"334.8\" x=\"50.14375\" y=\"7.2\"/>\r\n  </clipPath>\r\n </defs>\r\n</svg>\r\n",
      "image/png": "[encoded data removed]"
     },
     "metadata": {
      "needs_background": "light"
     }
    }
   ],
   "metadata": {}
  },
  {
   "cell_type": "code",
   "execution_count": 53,
   "source": [
    "best_clf = tree.DecisionTreeClassifier(criterion='entropy', max_depth=10)"
   ],
   "outputs": [],
   "metadata": {}
  },
  {
   "cell_type": "code",
   "execution_count": 56,
   "source": [
    "from sklearn.model_selection import GridSearchCV"
   ],
   "outputs": [],
   "metadata": {}
  },
  {
   "cell_type": "code",
   "execution_count": 57,
   "source": [
    "clf = tree.DecisionTreeClassifier()\r\n",
    "clf"
   ],
   "outputs": [
    {
     "output_type": "execute_result",
     "data": {
      "text/plain": [
       "DecisionTreeClassifier()"
      ]
     },
     "metadata": {},
     "execution_count": 57
    }
   ],
   "metadata": {}
  },
  {
   "cell_type": "code",
   "execution_count": 58,
   "source": [
    "parametrs = {'criterion' : ['gini', 'entropy'], 'max_depth': range(1, 30)}"
   ],
   "outputs": [],
   "metadata": {}
  },
  {
   "cell_type": "code",
   "execution_count": 59,
   "source": [
    "grid_search_cv_clf = GridSearchCV(clf, parametrs, cv=5)"
   ],
   "outputs": [],
   "metadata": {}
  },
  {
   "cell_type": "code",
   "execution_count": 60,
   "source": [
    "grid_search_cv_clf.fit(X_train, y_train)"
   ],
   "outputs": [
    {
     "output_type": "execute_result",
     "data": {
      "text/plain": [
       "GridSearchCV(cv=5, estimator=DecisionTreeClassifier(),\n",
       "             param_grid={'criterion': ['gini', 'entropy'],\n",
       "                         'max_depth': range(1, 30)})"
      ]
     },
     "metadata": {},
     "execution_count": 60
    }
   ],
   "metadata": {}
  },
  {
   "cell_type": "code",
   "execution_count": null,
   "source": [
    "grid_search_cv_clf.best_params_"
   ],
   "outputs": [],
   "metadata": {}
  }
 ],
 "metadata": {
  "orig_nbformat": 4,
  "language_info": {
   "name": "python",
   "version": "3.8.8",
   "mimetype": "text/x-python",
   "codemirror_mode": {
    "name": "ipython",
    "version": 3
   },
   "pygments_lexer": "ipython3",
   "nbconvert_exporter": "python",
   "file_extension": ".py"
  },
  "kernelspec": {
   "name": "python3",
   "display_name": "Python 3.8.8 64-bit ('base': conda)"
  },
  "interpreter": {
   "hash": "eff37c55c47bac411226ca10e7fdee776304656b92d039d163cd589f68a386b5"
  }
 },
 "nbformat": 4,
 "nbformat_minor": 2
}